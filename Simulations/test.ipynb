{
 "cells": [
  {
   "cell_type": "code",
   "execution_count": 1,
   "metadata": {},
   "outputs": [
    {
     "name": "stdout",
     "output_type": "stream",
     "text": [
      "(0, 0.2)\n",
      "(0.3, 0.2)\n",
      "(0.3, 0.2)\n",
      "(0, 0.2)\n"
     ]
    }
   ],
   "source": [
    "walk_params = [(0,0.2), (0.3,0.2), (0.3,0.2), (0,0.2)]\n",
    "for params in walk_params:\n",
    "    print(params)"
   ]
  },
  {
   "cell_type": "code",
   "execution_count": 14,
   "metadata": {},
   "outputs": [
    {
     "data": {
      "text/plain": [
       "-2.526514082906047"
      ]
     },
     "execution_count": 14,
     "metadata": {},
     "output_type": "execute_result"
    }
   ],
   "source": [
    "import numpy as np\n",
    "Tc = 0.3194\n",
    "Tsup = 0.5\n",
    "C = np.cosh(Tsup/Tc)\n",
    "S = np.sinh(Tsup/Tc)\n",
    "\n",
    "a = 1\n",
    "b = 1\n",
    "\n",
    "px = -0.2\n",
    "py = 0.3\n",
    "\n",
    "px_ref = 0.3\n",
    "py_ref = -0.1\n",
    "\n",
    "sx = 0.5\n",
    "sy = 0.4\n",
    "\n",
    "x_bar = sx/2\n",
    "y_bar = sy/2\n",
    "\n",
    "xd = px_ref + 0.5/2.0\n",
    "yd = py_ref + 0.4/2.0\n",
    "\n",
    "x0 = -1\n",
    "y0 = 0\n",
    "\n",
    "vx0 = 3\n",
    "vy0 = -0.1\n",
    "\n",
    "xf = x0*np.cosh(Tsup/Tc) + Tc*vx0*np.sinh(Tsup/Tc)\n",
    "yf = y0*np.cosh(Tsup/Tc) + Tc*vy0*np.sinh(Tsup/Tc)\n",
    "\n",
    "vx_bar = (1+C)/((Tc*S)*x_bar)\n",
    "vy_bar = (1+C)/((Tc*S)*y_bar)\n",
    "\n",
    "vxd = vx_bar\n",
    "vyd = vy_bar\n",
    "\n",
    "D = a*(C - 1)**2 + b*(S/Tc)**2\n",
    "\n",
    "-a*(C-1)*(xd - C*(xf + px) - Tc*S*vx0)/D - b*S*(vxd - S*(x0)/Tc - C*vx0)/(Tc*D)"
   ]
  }
 ],
 "metadata": {
  "interpreter": {
   "hash": "a035b5e68ca21feaa731f5a254846c1cea0ad964e6300fb76f1e229ef2a0bc1c"
  },
  "kernelspec": {
   "display_name": "Python 3.9.7 ('base')",
   "language": "python",
   "name": "python3"
  },
  "language_info": {
   "codemirror_mode": {
    "name": "ipython",
    "version": 3
   },
   "file_extension": ".py",
   "mimetype": "text/x-python",
   "name": "python",
   "nbconvert_exporter": "python",
   "pygments_lexer": "ipython3",
   "version": "3.9.7"
  },
  "orig_nbformat": 4
 },
 "nbformat": 4,
 "nbformat_minor": 2
}
